{
 "cells": [
  {
   "cell_type": "code",
   "execution_count": 1,
   "metadata": {},
   "outputs": [
    {
     "name": "stderr",
     "output_type": "stream",
     "text": [
      "/home/rkbp/Desktop/France/computer_vision/project/FlowNetPytorch/models/util.py:10: ImportWarning: failed to load custom correlation modulewhich is needed for FlowNetC\n",
      "  warnings.warn(\"failed to load custom correlation module\"\n"
     ]
    }
   ],
   "source": [
    "import argparse\n",
    "from path import Path\n",
    "\n",
    "import torch\n",
    "import torch.backends.cudnn as cudnn\n",
    "import torch.nn.functional as F\n",
    "import models\n",
    "from tqdm import tqdm\n",
    "\n",
    "import torchvision.transforms as transforms\n",
    "import flow_transforms\n",
    "from imageio import imread, imwrite\n",
    "import numpy as np\n",
    "from util import flow2rgb\n",
    "\n",
    "\n",
    "# myimport \n",
    "import matplotlib.pyplot as plt"
   ]
  },
  {
   "cell_type": "code",
   "execution_count": 2,
   "metadata": {},
   "outputs": [],
   "source": [
    "path_to_model = \"./pretrained_model/flownets_EPE1.951.pth.tar\"\n",
    "\n",
    "#Load model\n",
    "\n",
    "def set_cuda():\n",
    "    # setting the cuda device\n",
    "    device = torch.device(\"cuda\" if torch.cuda.is_available() else \"cpu\")\n",
    "    print(device)\n",
    "    return device\n",
    "\n",
    "\n",
    "def load_model(model_path, cuda_device):\n",
    "    # Importing the model\n",
    "    network_data = torch.load(model_path, map_location=cuda_device)\n",
    "    print(\"=> using pre-trained model '{}'\".format(network_data['arch']))\n",
    "    model = models.__dict__[network_data['arch']](network_data).to(cuda_device)\n",
    "    model.eval()\n",
    "    cudnn.benchmark = True\n",
    "\n",
    "    if 'div_flow' in network_data.keys():\n",
    "        div_flow = network_data['div_flow']\n",
    "    else:\n",
    "        div_flow = 20.0\n",
    "\n",
    "    return model, div_flow\n",
    "\n",
    "\n",
    "\n",
    "\n",
    "@torch.no_grad()\n",
    "def inference(nb_start, nb_end, name_of_the_figure, cuda_device, model, div_flow):\n",
    "    # create the folder for saving the results\n",
    "    path_to_save = Path('my_results')\n",
    "    if not path_to_save.exists():\n",
    "        path_to_save.mkdir()\n",
    "\n",
    "\n",
    "    # Data loading code\n",
    "    input_transform = transforms.Compose([\n",
    "        flow_transforms.ArrayToTensor(),\n",
    "        transforms.Normalize(mean=[0,0,0], std=[255,255,255]),\n",
    "        transforms.Normalize(mean=[0.411,0.432,0.45], std=[1,1,1])\n",
    "    ])\n",
    "\n",
    "    ###############importing images and nework form the paths################\n",
    "    path_to_sequesnces = \"./sequences-train/\"\n",
    "    name = name_of_the_figure + '-'\n",
    "\n",
    "    \n",
    "    ###############importing images and nework form the paths################\n",
    "\n",
    "\n",
    "    for i in range(nb_start, nb_end):\n",
    "\n",
    "        n_img_1 = i\n",
    "        n_img_2 = i+1\n",
    "\n",
    "        path_img1 = path_to_sequesnces + name + str(n_img_1).zfill(3) + \".bmp\"\n",
    "        path_img2 = path_to_sequesnces + name + str(n_img_2).zfill(3) + \".bmp\"\n",
    "\n",
    "        img1 = imread(path_img1)\n",
    "        img2 = imread(path_img2)\n",
    "        img1 = input_transform(img1)\n",
    "        img2 = input_transform(img2)\n",
    "\n",
    "        input_var = torch.cat([img1, img2]).unsqueeze(0)\n",
    "        input_var = input_var.to(cuda_device)\n",
    "        output = model(input_var)\n",
    "        # print(output.shape)\n",
    "\n",
    "        \n",
    "        flow_output = output.squeeze(0)\n",
    "        \n",
    "\n",
    "        file_name = \"./my_results/\" + name + str(n_img_1).zfill(3) + \"-\" + str(n_img_2).zfill(3)\n",
    "        rgb_flow = flow2rgb(div_flow*flow_output, max_value=None)\n",
    "        to_save_rgb = (rgb_flow * 255).astype(np.uint8).transpose(1,2,0)\n",
    "        imwrite(file_name + '.png', to_save_rgb)\n",
    "\n",
    "        to_save_np = (div_flow*flow_output).cpu().numpy().transpose(1,2,0)\n",
    "        np.save(file_name + '.npy', to_save_np)\n",
    "\n"
   ]
  },
  {
   "cell_type": "code",
   "execution_count": 3,
   "metadata": {},
   "outputs": [
    {
     "name": "stdout",
     "output_type": "stream",
     "text": [
      "cuda\n",
      "=> using pre-trained model 'flownets'\n"
     ]
    },
    {
     "name": "stderr",
     "output_type": "stream",
     "text": [
      "/tmp/ipykernel_27091/196282575.py:61: DeprecationWarning: Starting with ImageIO v3 the behavior of this function will switch to that of iio.v3.imread. To keep the current behavior (and make this warning disappear) use `import imageio.v2 as imageio` or call `imageio.v2.imread` directly.\n",
      "  img1 = imread(path_img1)\n",
      "/tmp/ipykernel_27091/196282575.py:62: DeprecationWarning: Starting with ImageIO v3 the behavior of this function will switch to that of iio.v3.imread. To keep the current behavior (and make this warning disappear) use `import imageio.v2 as imageio` or call `imageio.v2.imread` directly.\n",
      "  img2 = imread(path_img2)\n"
     ]
    }
   ],
   "source": [
    "device = set_cuda()\n",
    "model, div_flow = load_model(path_to_model, device)\n",
    "\n",
    "inference(1,50, \"swan\", device, model, div_flow)\n"
   ]
  },
  {
   "cell_type": "code",
   "execution_count": null,
   "metadata": {},
   "outputs": [],
   "source": [
    "# this one alex will change adding th images"
   ]
  },
  {
   "cell_type": "code",
   "execution_count": 4,
   "metadata": {},
   "outputs": [],
   "source": [
    "def propagate_mask(flow, img_current, mask_begin):\n",
    "    new_mask = np.zeros(shape=img_current.shape[:2], dtype=np.uint8)\n",
    "    for x in range(img_current.shape[0]):\n",
    "        for y in range(img_current.shape[1]):\n",
    "            x_, y_ = np.rint(x+flow[x,y,1]).astype(int), np.rint(y+flow[x,y,0]).astype(int)\n",
    "            if (x_>=0) and (x_<img_current.shape[0]) and (y_>=0) and (y_<img_current.shape[1]):\n",
    "                if mask_begin[x_,y_] > 0:\n",
    "                    new_mask[x,y] = 255\n",
    "    return new_mask"
   ]
  },
  {
   "cell_type": "code",
   "execution_count": 5,
   "metadata": {},
   "outputs": [
    {
     "name": "stdout",
     "output_type": "stream",
     "text": [
      "(60, 107, 2)\n"
     ]
    },
    {
     "name": "stderr",
     "output_type": "stream",
     "text": [
      "/tmp/ipykernel_27091/1816658286.py:9: DeprecationWarning: Starting with ImageIO v3 the behavior of this function will switch to that of iio.v3.imread. To keep the current behavior (and make this warning disappear) use `import imageio.v2 as imageio` or call `imageio.v2.imread` directly.\n",
      "  img2 = imread(img2)\n",
      "/tmp/ipykernel_27091/1816658286.py:10: DeprecationWarning: Starting with ImageIO v3 the behavior of this function will switch to that of iio.v3.imread. To keep the current behavior (and make this warning disappear) use `import imageio.v2 as imageio` or call `imageio.v2.imread` directly.\n",
      "  msk1 = imread(msk1)\n"
     ]
    },
    {
     "ename": "IndexError",
     "evalue": "index 107 is out of bounds for axis 1 with size 107",
     "output_type": "error",
     "traceback": [
      "\u001b[0;31m---------------------------------------------------------------------------\u001b[0m",
      "\u001b[0;31mIndexError\u001b[0m                                Traceback (most recent call last)",
      "Cell \u001b[0;32mIn[5], line 12\u001b[0m\n\u001b[1;32m      9\u001b[0m img2 \u001b[38;5;241m=\u001b[39m imread(img2)\n\u001b[1;32m     10\u001b[0m msk1 \u001b[38;5;241m=\u001b[39m imread(msk1)\n\u001b[0;32m---> 12\u001b[0m prop \u001b[38;5;241m=\u001b[39m \u001b[43mpropagate_mask\u001b[49m\u001b[43m(\u001b[49m\u001b[43mflow_1_2\u001b[49m\u001b[43m,\u001b[49m\u001b[43m \u001b[49m\u001b[43mimg_current\u001b[49m\u001b[38;5;241;43m=\u001b[39;49m\u001b[43m \u001b[49m\u001b[43mimg2\u001b[49m\u001b[43m,\u001b[49m\u001b[43m \u001b[49m\u001b[43mmask_begin\u001b[49m\u001b[38;5;241;43m=\u001b[39;49m\u001b[43mmsk1\u001b[49m\u001b[43m)\u001b[49m \n\u001b[1;32m     14\u001b[0m \u001b[38;5;66;03m# plt.imshow(prop)\u001b[39;00m\n",
      "Cell \u001b[0;32mIn[4], line 5\u001b[0m, in \u001b[0;36mpropagate_mask\u001b[0;34m(flow, img_current, mask_begin)\u001b[0m\n\u001b[1;32m      3\u001b[0m \u001b[38;5;28;01mfor\u001b[39;00m x \u001b[38;5;129;01min\u001b[39;00m \u001b[38;5;28mrange\u001b[39m(img_current\u001b[38;5;241m.\u001b[39mshape[\u001b[38;5;241m0\u001b[39m]):\n\u001b[1;32m      4\u001b[0m     \u001b[38;5;28;01mfor\u001b[39;00m y \u001b[38;5;129;01min\u001b[39;00m \u001b[38;5;28mrange\u001b[39m(img_current\u001b[38;5;241m.\u001b[39mshape[\u001b[38;5;241m1\u001b[39m]):\n\u001b[0;32m----> 5\u001b[0m         x_, y_ \u001b[38;5;241m=\u001b[39m np\u001b[38;5;241m.\u001b[39mrint(x\u001b[38;5;241m+\u001b[39m\u001b[43mflow\u001b[49m\u001b[43m[\u001b[49m\u001b[43mx\u001b[49m\u001b[43m,\u001b[49m\u001b[43my\u001b[49m\u001b[43m,\u001b[49m\u001b[38;5;241;43m1\u001b[39;49m\u001b[43m]\u001b[49m)\u001b[38;5;241m.\u001b[39mastype(\u001b[38;5;28mint\u001b[39m), np\u001b[38;5;241m.\u001b[39mrint(y\u001b[38;5;241m+\u001b[39mflow[x,y,\u001b[38;5;241m0\u001b[39m])\u001b[38;5;241m.\u001b[39mastype(\u001b[38;5;28mint\u001b[39m)\n\u001b[1;32m      6\u001b[0m         \u001b[38;5;28;01mif\u001b[39;00m (x_\u001b[38;5;241m>\u001b[39m\u001b[38;5;241m=\u001b[39m\u001b[38;5;241m0\u001b[39m) \u001b[38;5;129;01mand\u001b[39;00m (x_\u001b[38;5;241m<\u001b[39mimg_current\u001b[38;5;241m.\u001b[39mshape[\u001b[38;5;241m0\u001b[39m]) \u001b[38;5;129;01mand\u001b[39;00m (y_\u001b[38;5;241m>\u001b[39m\u001b[38;5;241m=\u001b[39m\u001b[38;5;241m0\u001b[39m) \u001b[38;5;129;01mand\u001b[39;00m (y_\u001b[38;5;241m<\u001b[39mimg_current\u001b[38;5;241m.\u001b[39mshape[\u001b[38;5;241m1\u001b[39m]):\n\u001b[1;32m      7\u001b[0m             \u001b[38;5;28;01mif\u001b[39;00m mask_begin[x_,y_] \u001b[38;5;241m>\u001b[39m \u001b[38;5;241m0\u001b[39m:\n",
      "\u001b[0;31mIndexError\u001b[0m: index 107 is out of bounds for axis 1 with size 107"
     ]
    }
   ],
   "source": [
    "flow_1_2 = np.load(\"./my_results/swan-001-002.npy\")\n",
    "\n",
    "print(flow_1_2.shape)\n",
    "\n",
    "\n",
    "img2 = './sequences-train/swan-002.bmp'\n",
    "msk1 = './sequences-train/swan-001.png'\n",
    "\n",
    "img2 = imread(img2)\n",
    "msk1 = imread(msk1)\n",
    "\n",
    "\n",
    "print(img2.shape)\n",
    "print(msk1.shape)\n",
    "print(flow_1_2.shape)\n",
    "\n",
    "# prop = propagate_mask(flow_1_2, img_current= img2, mask_begin=msk1) \n",
    "\n",
    "# plt.imshow(prop)\n",
    "\n",
    "\n",
    "\n",
    "\n"
   ]
  },
  {
   "cell_type": "code",
   "execution_count": 11,
   "metadata": {},
   "outputs": [
    {
     "name": "stdout",
     "output_type": "stream",
     "text": [
      "1\n"
     ]
    },
    {
     "name": "stderr",
     "output_type": "stream",
     "text": [
      "/tmp/ipykernel_6092/1229730390.py:7: DeprecationWarning: Starting with ImageIO v3 the behavior of this function will switch to that of iio.v3.imread. To keep the current behavior (and make this warning disappear) use `import imageio.v2 as imageio` or call `imageio.v2.imread` directly.\n",
      "  mask = imread(\"./sequences-train/swan-001.png\")\n",
      "/tmp/ipykernel_6092/1229730390.py:13: DeprecationWarning: Starting with ImageIO v3 the behavior of this function will switch to that of iio.v3.imread. To keep the current behavior (and make this warning disappear) use `import imageio.v2 as imageio` or call `imageio.v2.imread` directly.\n",
      "  img = imread('./sequences-train/swan-' + str(i).zfill(3) +'.bmp')\n"
     ]
    },
    {
     "ename": "IndexError",
     "evalue": "index 107 is out of bounds for axis 1 with size 107",
     "output_type": "error",
     "traceback": [
      "\u001b[0;31m---------------------------------------------------------------------------\u001b[0m",
      "\u001b[0;31mIndexError\u001b[0m                                Traceback (most recent call last)",
      "Cell \u001b[0;32mIn[11], line 15\u001b[0m\n\u001b[1;32m     12\u001b[0m flow \u001b[38;5;241m=\u001b[39m np\u001b[38;5;241m.\u001b[39mload( \u001b[38;5;124m\"\u001b[39m\u001b[38;5;124m./my_results/swan-\u001b[39m\u001b[38;5;124m\"\u001b[39m \u001b[38;5;241m+\u001b[39m \u001b[38;5;28mstr\u001b[39m(i)\u001b[38;5;241m.\u001b[39mzfill(\u001b[38;5;241m3\u001b[39m) \u001b[38;5;241m+\u001b[39m \u001b[38;5;124m\"\u001b[39m\u001b[38;5;124m-\u001b[39m\u001b[38;5;124m\"\u001b[39m \u001b[38;5;241m+\u001b[39m \u001b[38;5;28mstr\u001b[39m(i\u001b[38;5;241m+\u001b[39m\u001b[38;5;241m1\u001b[39m)\u001b[38;5;241m.\u001b[39mzfill(\u001b[38;5;241m3\u001b[39m) \u001b[38;5;241m+\u001b[39m \u001b[38;5;124m'\u001b[39m\u001b[38;5;124m.npy\u001b[39m\u001b[38;5;124m'\u001b[39m)\n\u001b[1;32m     13\u001b[0m img \u001b[38;5;241m=\u001b[39m imread(\u001b[38;5;124m'\u001b[39m\u001b[38;5;124m./sequences-train/swan-\u001b[39m\u001b[38;5;124m'\u001b[39m \u001b[38;5;241m+\u001b[39m \u001b[38;5;28mstr\u001b[39m(i)\u001b[38;5;241m.\u001b[39mzfill(\u001b[38;5;241m3\u001b[39m) \u001b[38;5;241m+\u001b[39m\u001b[38;5;124m'\u001b[39m\u001b[38;5;124m.bmp\u001b[39m\u001b[38;5;124m'\u001b[39m)\n\u001b[0;32m---> 15\u001b[0m mask \u001b[38;5;241m=\u001b[39m \u001b[43mpropagate_mask\u001b[49m\u001b[43m(\u001b[49m\u001b[43mflow\u001b[49m\u001b[43m,\u001b[49m\u001b[43m \u001b[49m\u001b[43mimg_current\u001b[49m\u001b[38;5;241;43m=\u001b[39;49m\u001b[43m \u001b[49m\u001b[43mimg\u001b[49m\u001b[43m,\u001b[49m\u001b[43m \u001b[49m\u001b[43mmask_begin\u001b[49m\u001b[43m \u001b[49m\u001b[38;5;241;43m=\u001b[39;49m\u001b[43m \u001b[49m\u001b[43mmask\u001b[49m\u001b[43m)\u001b[49m\n\u001b[1;32m     17\u001b[0m imwrite( \u001b[38;5;124m\"\u001b[39m\u001b[38;5;124m./my_results/swan-mask_pro\u001b[39m\u001b[38;5;124m\"\u001b[39m\u001b[38;5;241m+\u001b[39m \u001b[38;5;28mstr\u001b[39m(i)\u001b[38;5;241m.\u001b[39mzfill(\u001b[38;5;241m3\u001b[39m) \u001b[38;5;241m+\u001b[39m\u001b[38;5;124m'\u001b[39m\u001b[38;5;124m.png\u001b[39m\u001b[38;5;124m'\u001b[39m, mask)\n",
      "Cell \u001b[0;32mIn[9], line 5\u001b[0m, in \u001b[0;36mpropagate_mask\u001b[0;34m(flow, img_current, mask_begin)\u001b[0m\n\u001b[1;32m      3\u001b[0m \u001b[38;5;28;01mfor\u001b[39;00m x \u001b[38;5;129;01min\u001b[39;00m \u001b[38;5;28mrange\u001b[39m(img_current\u001b[38;5;241m.\u001b[39mshape[\u001b[38;5;241m0\u001b[39m]):\n\u001b[1;32m      4\u001b[0m     \u001b[38;5;28;01mfor\u001b[39;00m y \u001b[38;5;129;01min\u001b[39;00m \u001b[38;5;28mrange\u001b[39m(img_current\u001b[38;5;241m.\u001b[39mshape[\u001b[38;5;241m1\u001b[39m]):\n\u001b[0;32m----> 5\u001b[0m         x_, y_ \u001b[38;5;241m=\u001b[39m np\u001b[38;5;241m.\u001b[39mrint(x\u001b[38;5;241m+\u001b[39m\u001b[43mflow\u001b[49m\u001b[43m[\u001b[49m\u001b[43mx\u001b[49m\u001b[43m,\u001b[49m\u001b[43my\u001b[49m\u001b[43m,\u001b[49m\u001b[38;5;241;43m1\u001b[39;49m\u001b[43m]\u001b[49m)\u001b[38;5;241m.\u001b[39mastype(\u001b[38;5;28mint\u001b[39m), np\u001b[38;5;241m.\u001b[39mrint(y\u001b[38;5;241m+\u001b[39mflow[x,y,\u001b[38;5;241m0\u001b[39m])\u001b[38;5;241m.\u001b[39mastype(\u001b[38;5;28mint\u001b[39m)\n\u001b[1;32m      6\u001b[0m         \u001b[38;5;28;01mif\u001b[39;00m (x_\u001b[38;5;241m>\u001b[39m\u001b[38;5;241m=\u001b[39m\u001b[38;5;241m0\u001b[39m) \u001b[38;5;129;01mand\u001b[39;00m (x_\u001b[38;5;241m<\u001b[39mimg_current\u001b[38;5;241m.\u001b[39mshape[\u001b[38;5;241m0\u001b[39m]) \u001b[38;5;129;01mand\u001b[39;00m (y_\u001b[38;5;241m>\u001b[39m\u001b[38;5;241m=\u001b[39m\u001b[38;5;241m0\u001b[39m) \u001b[38;5;129;01mand\u001b[39;00m (y_\u001b[38;5;241m<\u001b[39mimg_current\u001b[38;5;241m.\u001b[39mshape[\u001b[38;5;241m1\u001b[39m]):\n\u001b[1;32m      7\u001b[0m             \u001b[38;5;28;01mif\u001b[39;00m mask_begin[x_,y_] \u001b[38;5;241m>\u001b[39m \u001b[38;5;241m0\u001b[39m:\n",
      "\u001b[0;31mIndexError\u001b[0m: index 107 is out of bounds for axis 1 with size 107"
     ]
    }
   ],
   "source": [
    "# generate all the propaagated masks\n",
    "\n",
    "nb_start = 1\n",
    "nb_end   = 50\n",
    "\n",
    "\n",
    "mask = imread(\"./sequences-train/swan-001.png\")\n",
    "\n",
    "\n",
    "for i in range(nb_start, nb_end):\n",
    "    print(i)\n",
    "    flow = np.load( \"./my_results/swan-\" + str(i).zfill(3) + \"-\" + str(i+1).zfill(3) + '.npy')\n",
    "    img = imread('./sequences-train/swan-' + str(i).zfill(3) +'.bmp')\n",
    "    \n",
    "    mask = propagate_mask(flow, img_current= img, mask_begin = mask)\n",
    "\n",
    "    imwrite( \"./my_results/swan-mask_pro\"+ str(i).zfill(3) +'.png', mask)\n",
    "\n"
   ]
  }
 ],
 "metadata": {
  "kernelspec": {
   "display_name": "venv",
   "language": "python",
   "name": "python3"
  },
  "language_info": {
   "codemirror_mode": {
    "name": "ipython",
    "version": 3
   },
   "file_extension": ".py",
   "mimetype": "text/x-python",
   "name": "python",
   "nbconvert_exporter": "python",
   "pygments_lexer": "ipython3",
   "version": "3.10.12"
  }
 },
 "nbformat": 4,
 "nbformat_minor": 2
}

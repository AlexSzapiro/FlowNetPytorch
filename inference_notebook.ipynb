{
 "cells": [
  {
   "cell_type": "code",
   "execution_count": 1,
   "metadata": {},
   "outputs": [
    {
     "name": "stderr",
     "output_type": "stream",
     "text": [
      "c:\\Users\\Alex\\Desktop\\IMT\\MCE\\Computer vision\\project\\FlowNetPytorch\\models\\util.py:10: ImportWarning: failed to load custom correlation modulewhich is needed for FlowNetC\n",
      "  warnings.warn(\"failed to load custom correlation module\"\n"
     ]
    }
   ],
   "source": [
    "#Import libraries\n",
    "\n",
    "import argparse\n",
    "from path import Path\n",
    "\n",
    "import torch\n",
    "import torch.backends.cudnn as cudnn\n",
    "import torch.nn.functional as F\n",
    "import models\n",
    "from tqdm import tqdm\n",
    "\n",
    "import torchvision.transforms as transforms\n",
    "import flow_transforms\n",
    "from imageio import imread, imwrite\n",
    "import numpy as np\n",
    "from util import flow2rgb\n",
    "\n",
    "import matplotlib.pyplot as plt\n"
   ]
  },
  {
   "cell_type": "code",
   "execution_count": 2,
   "metadata": {},
   "outputs": [],
   "source": [
    "path_to_model = \"./pretrained_model/flownets_EPE1.951.pth.tar\"\n",
    "\n",
    "#Load model\n",
    "\n",
    "def set_cuda():\n",
    "    # setting the cuda device\n",
    "    device = torch.device(\"cuda\" if torch.cuda.is_available() else \"cpu\")\n",
    "    print(device)\n",
    "    return device\n",
    "\n",
    "\n",
    "def load_model(model_path, cuda_device):\n",
    "    # Importing the model\n",
    "    network_data = torch.load(model_path, map_location=cuda_device)\n",
    "    print(\"=> using pre-trained model '{}'\".format(network_data['arch']))\n",
    "    model = models.__dict__[network_data['arch']](network_data).to(cuda_device)\n",
    "    model.eval()\n",
    "    cudnn.benchmark = True\n",
    "\n",
    "    if 'div_flow' in network_data.keys():\n",
    "        div_flow = network_data['div_flow']\n",
    "    else:\n",
    "        div_flow = 20.0\n",
    "\n",
    "    return model, div_flow\n",
    "\n",
    "\n",
    "\n",
    "\n",
    "@torch.no_grad()\n",
    "def inference(nb_start, nb_end, name_of_the_figure, cuda_device, model, div_flow):\n",
    "    # create the folder for saving the results\n",
    "    path_to_save = Path('my_results')\n",
    "    if not path_to_save.exists():\n",
    "        path_to_save.mkdir()\n",
    "\n",
    "\n",
    "    # Data loading code\n",
    "    input_transform = transforms.Compose([\n",
    "        flow_transforms.ArrayToTensor(),\n",
    "        transforms.Normalize(mean=[0,0,0], std=[255,255,255]),\n",
    "        transforms.Normalize(mean=[0.411,0.432,0.45], std=[1,1,1])\n",
    "    ])\n",
    "\n",
    "    ###############importing images and nework form the paths################\n",
    "    path_to_sequesnces = \"./sequences-train/\"\n",
    "    name = name_of_the_figure + '-'\n",
    "\n",
    "    \n",
    "    ###############importing images and nework form the paths################\n",
    "\n",
    "\n",
    "    for i in range(nb_start, nb_end):\n",
    "\n",
    "        n_img_1 = i\n",
    "        n_img_2 = i+1\n",
    "\n",
    "        path_img1 = path_to_sequesnces + name + str(n_img_1).zfill(3) + \".bmp\"\n",
    "        path_img2 = path_to_sequesnces + name + str(n_img_2).zfill(3) + \".bmp\"\n",
    "\n",
    "        img1 = imread(path_img1)\n",
    "        img2 = imread(path_img2)\n",
    "        img1 = input_transform(img1)\n",
    "        img2 = input_transform(img2)\n",
    "\n",
    "        input_var = torch.cat([img1, img2]).unsqueeze(0)\n",
    "        input_var = input_var.to(cuda_device)\n",
    "        output = model(input_var)\n",
    "        # print(output.shape)\n",
    "\n",
    "        \n",
    "        flow_output = output.squeeze(0)\n",
    "        \n",
    "\n",
    "        file_name = \"./my_results/\" + name + str(n_img_1).zfill(3) + \"-\" + str(n_img_2).zfill(3)\n",
    "        rgb_flow = flow2rgb(div_flow*flow_output, max_value=None)\n",
    "        to_save_rgb = (rgb_flow * 255).astype(np.uint8).transpose(1,2,0)\n",
    "        imwrite(file_name + '.png', to_save_rgb)\n",
    "\n",
    "        to_save_np = (div_flow*flow_output).cpu().numpy().transpose(1,2,0)\n",
    "        np.save(file_name + '.npy', to_save_np)\n",
    "\n"
   ]
  },
  {
   "cell_type": "code",
   "execution_count": 3,
   "metadata": {},
   "outputs": [
    {
     "name": "stdout",
     "output_type": "stream",
     "text": [
      "cpu\n",
      "=> using pre-trained model 'flownets'\n"
     ]
    },
    {
     "name": "stderr",
     "output_type": "stream",
     "text": [
      "C:\\Users\\Alex\\AppData\\Local\\Temp\\ipykernel_15920\\196282575.py:61: DeprecationWarning: Starting with ImageIO v3 the behavior of this function will switch to that of iio.v3.imread. To keep the current behavior (and make this warning disappear) use `import imageio.v2 as imageio` or call `imageio.v2.imread` directly.\n",
      "  img1 = imread(path_img1)\n",
      "C:\\Users\\Alex\\AppData\\Local\\Temp\\ipykernel_15920\\196282575.py:62: DeprecationWarning: Starting with ImageIO v3 the behavior of this function will switch to that of iio.v3.imread. To keep the current behavior (and make this warning disappear) use `import imageio.v2 as imageio` or call `imageio.v2.imread` directly.\n",
      "  img2 = imread(path_img2)\n"
     ]
    }
   ],
   "source": [
    "device = set_cuda()\n",
    "model, div_flow = load_model(path_to_model, device)\n",
    "\n",
    "inference(1,50, \"swan\", device, model, div_flow)\n"
   ]
  }
 ],
 "metadata": {
  "kernelspec": {
   "display_name": "venv",
   "language": "python",
   "name": "python3"
  },
  "language_info": {
   "codemirror_mode": {
    "name": "ipython",
    "version": 3
   },
   "file_extension": ".py",
   "mimetype": "text/x-python",
   "name": "python",
   "nbconvert_exporter": "python",
   "pygments_lexer": "ipython3",
   "version": "3.11.5"
  }
 },
 "nbformat": 4,
 "nbformat_minor": 2
}

{
 "cells": [
  {
   "cell_type": "code",
<<<<<<< HEAD
   "execution_count": 3,
=======
   "execution_count": 1,
>>>>>>> ddb311da76198f441c8a2d60b27886e103faefbf
   "metadata": {},
   "outputs": [
    {
     "name": "stderr",
     "output_type": "stream",
     "text": [
<<<<<<< HEAD
      "/home/rkbp/Desktop/France/computer_vision/project/FlowNetPytorch/models/util.py:10: ImportWarning: failed to load custom correlation modulewhich is needed for FlowNetC\n",
=======
      "c:\\Users\\Alex\\Desktop\\IMT\\MCE\\Computer vision\\project\\FlowNetPytorch\\models\\util.py:10: ImportWarning: failed to load custom correlation modulewhich is needed for FlowNetC\n",
>>>>>>> ddb311da76198f441c8a2d60b27886e103faefbf
      "  warnings.warn(\"failed to load custom correlation module\"\n"
     ]
    }
   ],
   "source": [
    "#Import libraries\n",
    "\n",
    "import argparse\n",
    "from path import Path\n",
    "\n",
    "import torch\n",
    "import torch.backends.cudnn as cudnn\n",
    "import torch.nn.functional as F\n",
    "import models\n",
    "from tqdm import tqdm\n",
    "\n",
    "import torchvision.transforms as transforms\n",
    "import flow_transforms\n",
    "from imageio import imread, imwrite\n",
    "import numpy as np\n",
    "from util import flow2rgb\n",
    "\n",
    "import matplotlib.pyplot as plt\n"
   ]
  },
  {
   "cell_type": "code",
   "execution_count": 2,
   "metadata": {},
   "outputs": [],
   "source": [
    "path_to_model = \"./pretrained_model/flownets_EPE1.951.pth.tar\"\n",
    "\n",
<<<<<<< HEAD
    "# myimport \n",
    "import matplotlib.pyplot as plt"
   ]
  },
  {
   "cell_type": "code",
   "execution_count": 45,
   "metadata": {},
   "outputs": [
    {
     "name": "stdout",
     "output_type": "stream",
     "text": [
      "cuda\n",
      "=> using pre-trained model 'flownets'\n"
     ]
    },
    {
     "name": "stderr",
     "output_type": "stream",
     "text": [
      "/tmp/ipykernel_16963/1189164583.py:73: DeprecationWarning: Starting with ImageIO v3 the behavior of this function will switch to that of iio.v3.imread. To keep the current behavior (and make this warning disappear) use `import imageio.v2 as imageio` or call `imageio.v2.imread` directly.\n",
      "  img1 = imread(path_img1)\n",
      "/tmp/ipykernel_16963/1189164583.py:74: DeprecationWarning: Starting with ImageIO v3 the behavior of this function will switch to that of iio.v3.imread. To keep the current behavior (and make this warning disappear) use `import imageio.v2 as imageio` or call `imageio.v2.imread` directly.\n",
      "  img2 = imread(path_img2)\n"
     ]
    },
    {
     "name": "stdout",
     "output_type": "stream",
     "text": [
      "torch.Size([1, 2, 60, 107])\n",
      "torch.Size([1, 2, 240, 427])\n",
      "torch.Size([1, 2, 60, 107])\n",
      "torch.Size([1, 2, 240, 427])\n",
      "torch.Size([1, 2, 60, 107])\n",
      "torch.Size([1, 2, 240, 427])\n",
      "torch.Size([1, 2, 60, 107])\n",
      "torch.Size([1, 2, 240, 427])\n",
      "torch.Size([1, 2, 60, 107])\n",
      "torch.Size([1, 2, 240, 427])\n",
      "torch.Size([1, 2, 60, 107])\n",
      "torch.Size([1, 2, 240, 427])\n",
      "torch.Size([1, 2, 60, 107])\n",
      "torch.Size([1, 2, 240, 427])\n",
      "torch.Size([1, 2, 60, 107])\n",
      "torch.Size([1, 2, 240, 427])\n",
      "torch.Size([1, 2, 60, 107])\n",
      "torch.Size([1, 2, 240, 427])\n",
      "torch.Size([1, 2, 60, 107])\n",
      "torch.Size([1, 2, 240, 427])\n",
      "torch.Size([1, 2, 60, 107])\n",
      "torch.Size([1, 2, 240, 427])\n",
      "torch.Size([1, 2, 60, 107])\n",
      "torch.Size([1, 2, 240, 427])\n",
      "torch.Size([1, 2, 60, 107])\n",
      "torch.Size([1, 2, 240, 427])\n",
      "torch.Size([1, 2, 60, 107])\n",
      "torch.Size([1, 2, 240, 427])\n",
      "torch.Size([1, 2, 60, 107])\n",
      "torch.Size([1, 2, 240, 427])\n",
      "torch.Size([1, 2, 60, 107])\n",
      "torch.Size([1, 2, 240, 427])\n",
      "torch.Size([1, 2, 60, 107])\n",
      "torch.Size([1, 2, 240, 427])\n",
      "torch.Size([1, 2, 60, 107])\n",
      "torch.Size([1, 2, 240, 427])\n",
      "torch.Size([1, 2, 60, 107])\n",
      "torch.Size([1, 2, 240, 427])\n",
      "torch.Size([1, 2, 60, 107])\n",
      "torch.Size([1, 2, 240, 427])\n",
      "torch.Size([1, 2, 60, 107])\n",
      "torch.Size([1, 2, 240, 427])\n",
      "torch.Size([1, 2, 60, 107])\n",
      "torch.Size([1, 2, 240, 427])\n",
      "torch.Size([1, 2, 60, 107])\n",
      "torch.Size([1, 2, 240, 427])\n",
      "torch.Size([1, 2, 60, 107])\n",
      "torch.Size([1, 2, 240, 427])\n",
      "torch.Size([1, 2, 60, 107])\n",
      "torch.Size([1, 2, 240, 427])\n",
      "torch.Size([1, 2, 60, 107])\n",
      "torch.Size([1, 2, 240, 427])\n",
      "torch.Size([1, 2, 60, 107])\n",
      "torch.Size([1, 2, 240, 427])\n",
      "torch.Size([1, 2, 60, 107])\n",
      "torch.Size([1, 2, 240, 427])\n",
      "torch.Size([1, 2, 60, 107])\n",
      "torch.Size([1, 2, 240, 427])\n",
      "torch.Size([1, 2, 60, 107])\n",
      "torch.Size([1, 2, 240, 427])\n",
      "torch.Size([1, 2, 60, 107])\n",
      "torch.Size([1, 2, 240, 427])\n",
      "torch.Size([1, 2, 60, 107])\n",
      "torch.Size([1, 2, 240, 427])\n",
      "torch.Size([1, 2, 60, 107])\n",
      "torch.Size([1, 2, 240, 427])\n",
      "torch.Size([1, 2, 60, 107])\n",
      "torch.Size([1, 2, 240, 427])\n",
      "torch.Size([1, 2, 60, 107])\n",
      "torch.Size([1, 2, 240, 427])\n",
      "torch.Size([1, 2, 60, 107])\n",
      "torch.Size([1, 2, 240, 427])\n",
      "torch.Size([1, 2, 60, 107])\n",
      "torch.Size([1, 2, 240, 427])\n",
      "torch.Size([1, 2, 60, 107])\n",
      "torch.Size([1, 2, 240, 427])\n",
      "torch.Size([1, 2, 60, 107])\n",
      "torch.Size([1, 2, 240, 427])\n",
      "torch.Size([1, 2, 60, 107])\n",
      "torch.Size([1, 2, 240, 427])\n",
      "torch.Size([1, 2, 60, 107])\n",
      "torch.Size([1, 2, 240, 427])\n",
      "torch.Size([1, 2, 60, 107])\n",
      "torch.Size([1, 2, 240, 427])\n",
      "torch.Size([1, 2, 60, 107])\n",
      "torch.Size([1, 2, 240, 427])\n",
      "torch.Size([1, 2, 60, 107])\n",
      "torch.Size([1, 2, 240, 427])\n",
      "torch.Size([1, 2, 60, 107])\n",
      "torch.Size([1, 2, 240, 427])\n",
      "torch.Size([1, 2, 60, 107])\n",
      "torch.Size([1, 2, 240, 427])\n",
      "torch.Size([1, 2, 60, 107])\n",
      "torch.Size([1, 2, 240, 427])\n",
      "torch.Size([1, 2, 60, 107])\n",
      "torch.Size([1, 2, 240, 427])\n",
      "torch.Size([1, 2, 60, 107])\n",
      "torch.Size([1, 2, 240, 427])\n"
     ]
    }
   ],
   "source": [
    "model_names = sorted(name for name in models.__dict__\n",
    "                     if name.islower() and not name.startswith(\"__\"))\n",
=======
    "#Load model\n",
    "\n",
    "def set_cuda():\n",
    "    # setting the cuda device\n",
    "    device = torch.device(\"cuda\" if torch.cuda.is_available() else \"cpu\")\n",
    "    print(device)\n",
    "    return device\n",
    "\n",
    "\n",
    "def load_model(model_path, cuda_device):\n",
    "    # Importing the model\n",
    "    network_data = torch.load(model_path, map_location=cuda_device)\n",
    "    print(\"=> using pre-trained model '{}'\".format(network_data['arch']))\n",
    "    model = models.__dict__[network_data['arch']](network_data).to(cuda_device)\n",
    "    model.eval()\n",
    "    cudnn.benchmark = True\n",
    "\n",
    "    if 'div_flow' in network_data.keys():\n",
    "        div_flow = network_data['div_flow']\n",
    "    else:\n",
    "        div_flow = 20.0\n",
    "\n",
    "    return model, div_flow\n",
    "\n",
>>>>>>> ddb311da76198f441c8a2d60b27886e103faefbf
    "\n",
    "\n",
    "\n",
    "@torch.no_grad()\n",
    "def inference(nb_start, nb_end, name_of_the_figure, cuda_device, model, div_flow):\n",
    "    # create the folder for saving the results\n",
    "    path_to_save = Path('my_results')\n",
    "    if not path_to_save.exists():\n",
    "        path_to_save.mkdir()\n",
    "\n",
    "\n",
    "    # Data loading code\n",
    "    input_transform = transforms.Compose([\n",
    "        flow_transforms.ArrayToTensor(),\n",
    "        transforms.Normalize(mean=[0,0,0], std=[255,255,255]),\n",
    "        transforms.Normalize(mean=[0.411,0.432,0.45], std=[1,1,1])\n",
    "    ])\n",
    "\n",
    "    ###############importing images and nework form the paths################\n",
    "    path_to_sequesnces = \"./sequences-train/\"\n",
    "    name = name_of_the_figure + '-'\n",
    "\n",
    "    \n",
    "    ###############importing images and nework form the paths################\n",
    "\n",
    "\n",
    "    for i in range(nb_start, nb_end):\n",
    "\n",
    "        n_img_1 = i\n",
    "        n_img_2 = i+1\n",
    "\n",
    "        path_img1 = path_to_sequesnces + name + str(n_img_1).zfill(3) + \".bmp\"\n",
    "        path_img2 = path_to_sequesnces + name + str(n_img_2).zfill(3) + \".bmp\"\n",
    "\n",
    "        img1 = imread(path_img1)\n",
    "        img2 = imread(path_img2)\n",
    "        img1 = input_transform(img1)\n",
    "        img2 = input_transform(img2)\n",
    "\n",
    "        input_var = torch.cat([img1, img2]).unsqueeze(0)\n",
    "        input_var = input_var.to(cuda_device)\n",
    "        output = model(input_var)\n",
    "        \n",
    "        print(output.shape)\n",
    "        output = F.interpolate(output, size=img1.size()[-2:], mode = \"bilinear\", align_corners=False)\n",
    "        print(output.shape)\n",
    "        \n",
    "        flow_output = output.squeeze(0)\n",
    "        \n",
    "\n",
    "        file_name = \"./my_results/\" + name + str(n_img_1).zfill(3) + \"-\" + str(n_img_2).zfill(3)\n",
    "        rgb_flow = flow2rgb(div_flow*flow_output, max_value=None)\n",
    "        to_save_rgb = (rgb_flow * 255).astype(np.uint8).transpose(1,2,0)\n",
    "        imwrite(file_name + '.png', to_save_rgb)\n",
    "\n",
    "        to_save_np = (div_flow*flow_output).cpu().numpy().transpose(1,2,0)\n",
    "        np.save(file_name + '.npy', to_save_np)\n",
    "\n"
   ]
  },
  {
   "cell_type": "code",
   "execution_count": 3,
   "metadata": {},
   "outputs": [
    {
     "name": "stdout",
     "output_type": "stream",
     "text": [
      "cpu\n",
      "=> using pre-trained model 'flownets'\n"
     ]
    },
    {
     "name": "stderr",
     "output_type": "stream",
     "text": [
      "C:\\Users\\Alex\\AppData\\Local\\Temp\\ipykernel_15920\\196282575.py:61: DeprecationWarning: Starting with ImageIO v3 the behavior of this function will switch to that of iio.v3.imread. To keep the current behavior (and make this warning disappear) use `import imageio.v2 as imageio` or call `imageio.v2.imread` directly.\n",
      "  img1 = imread(path_img1)\n",
      "C:\\Users\\Alex\\AppData\\Local\\Temp\\ipykernel_15920\\196282575.py:62: DeprecationWarning: Starting with ImageIO v3 the behavior of this function will switch to that of iio.v3.imread. To keep the current behavior (and make this warning disappear) use `import imageio.v2 as imageio` or call `imageio.v2.imread` directly.\n",
      "  img2 = imread(path_img2)\n"
     ]
    }
   ],
   "source": [
    "device = set_cuda()\n",
    "model, div_flow = load_model(path_to_model, device)\n",
    "\n",
    "inference(1,50, \"swan\", device, model, div_flow)\n"
   ]
  },
  {
   "cell_type": "code",
   "execution_count": null,
   "metadata": {},
   "outputs": [],
   "source": [
    "# this one alex will change adding th images"
   ]
  },
  {
   "cell_type": "code",
   "execution_count": 8,
   "metadata": {},
   "outputs": [],
   "source": [
    "def propagate_mask(flow, img_current, mask_begin):\n",
    "    new_mask = np.zeros(shape=img_current.shape[:2], dtype=np.uint8)\n",
    "    for x in range(img_current.shape[0]):\n",
    "        for y in range(img_current.shape[1]):\n",
    "            x_, y_ = np.rint(x+flow[x,y,1]).astype(int), np.rint(y+flow[x,y,0]).astype(int)\n",
    "            if (x_>=0) and (x_<img_current.shape[0]) and (y_>=0) and (y_<img_current.shape[1]):\n",
    "                if mask_begin[x_,y_] > 0:\n",
    "                    new_mask[x,y] = 255\n",
    "    return new_mask"
   ]
  },
  {
   "cell_type": "code",
   "execution_count": 9,
   "metadata": {},
   "outputs": [
    {
     "name": "stdout",
     "output_type": "stream",
     "text": [
      "(240, 427, 2)\n"
     ]
    },
    {
     "name": "stderr",
     "output_type": "stream",
     "text": [
      "/tmp/ipykernel_6127/3735621223.py:9: DeprecationWarning: Starting with ImageIO v3 the behavior of this function will switch to that of iio.v3.imread. To keep the current behavior (and make this warning disappear) use `import imageio.v2 as imageio` or call `imageio.v2.imread` directly.\n",
      "  img2 = imread(img2)\n",
      "/tmp/ipykernel_6127/3735621223.py:10: DeprecationWarning: Starting with ImageIO v3 the behavior of this function will switch to that of iio.v3.imread. To keep the current behavior (and make this warning disappear) use `import imageio.v2 as imageio` or call `imageio.v2.imread` directly.\n",
      "  msk1 = imread(msk1)\n"
     ]
    },
    {
     "data": {
      "text/plain": [
       "<matplotlib.image.AxesImage at 0x7f648e469e70>"
      ]
     },
     "execution_count": 9,
     "metadata": {},
     "output_type": "execute_result"
    },
    {
     "data": {
      "image/png": "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",
      "text/plain": [
       "<Figure size 640x480 with 1 Axes>"
      ]
     },
     "metadata": {},
     "output_type": "display_data"
    }
   ],
   "source": [
    "flow_1_2 = np.load(\"./my_results/swan-001-002.npy\")\n",
    "\n",
    "print(flow_1_2.shape)\n",
    "\n",
    "\n",
    "img2 = './sequences-train/swan-002.bmp'\n",
    "msk1 = './sequences-train/swan-001.png'\n",
    "\n",
    "img2 = imread(img2)\n",
    "msk1 = imread(msk1)\n",
    "\n",
    "prop = propagate_mask(flow_1_2, img_current= img2, mask_begin=msk1) \n",
    "\n",
    "plt.imshow(prop)\n",
    "\n",
    "\n",
    "\n",
    "\n"
   ]
  },
  {
   "cell_type": "code",
   "execution_count": 15,
   "metadata": {},
   "outputs": [
    {
     "name": "stderr",
     "output_type": "stream",
     "text": [
      "/tmp/ipykernel_6127/2710584553.py:7: DeprecationWarning: Starting with ImageIO v3 the behavior of this function will switch to that of iio.v3.imread. To keep the current behavior (and make this warning disappear) use `import imageio.v2 as imageio` or call `imageio.v2.imread` directly.\n",
      "  mask = imread(\"./sequences-train/swan-001.png\")\n",
      "/tmp/ipykernel_6127/2710584553.py:13: DeprecationWarning: Starting with ImageIO v3 the behavior of this function will switch to that of iio.v3.imread. To keep the current behavior (and make this warning disappear) use `import imageio.v2 as imageio` or call `imageio.v2.imread` directly.\n",
      "  img = imread('./sequences-train/swan-' + str(i).zfill(3) +'.bmp')\n"
     ]
    },
    {
     "name": "stdout",
     "output_type": "stream",
     "text": [
      "1\n",
      "2\n",
      "3\n"
     ]
    },
    {
     "ename": "KeyboardInterrupt",
     "evalue": "",
     "output_type": "error",
     "traceback": [
      "\u001b[0;31m---------------------------------------------------------------------------\u001b[0m",
      "\u001b[0;31mKeyboardInterrupt\u001b[0m                         Traceback (most recent call last)",
      "Cell \u001b[0;32mIn[15], line 15\u001b[0m\n\u001b[1;32m     12\u001b[0m flow \u001b[38;5;241m=\u001b[39m np\u001b[38;5;241m.\u001b[39mload( \u001b[38;5;124m\"\u001b[39m\u001b[38;5;124m./my_results/swan-\u001b[39m\u001b[38;5;124m\"\u001b[39m \u001b[38;5;241m+\u001b[39m \u001b[38;5;28mstr\u001b[39m(i)\u001b[38;5;241m.\u001b[39mzfill(\u001b[38;5;241m3\u001b[39m) \u001b[38;5;241m+\u001b[39m \u001b[38;5;124m\"\u001b[39m\u001b[38;5;124m-\u001b[39m\u001b[38;5;124m\"\u001b[39m \u001b[38;5;241m+\u001b[39m \u001b[38;5;28mstr\u001b[39m(i\u001b[38;5;241m+\u001b[39m\u001b[38;5;241m1\u001b[39m)\u001b[38;5;241m.\u001b[39mzfill(\u001b[38;5;241m3\u001b[39m) \u001b[38;5;241m+\u001b[39m \u001b[38;5;124m'\u001b[39m\u001b[38;5;124m.npy\u001b[39m\u001b[38;5;124m'\u001b[39m)\n\u001b[1;32m     13\u001b[0m img \u001b[38;5;241m=\u001b[39m imread(\u001b[38;5;124m'\u001b[39m\u001b[38;5;124m./sequences-train/swan-\u001b[39m\u001b[38;5;124m'\u001b[39m \u001b[38;5;241m+\u001b[39m \u001b[38;5;28mstr\u001b[39m(i)\u001b[38;5;241m.\u001b[39mzfill(\u001b[38;5;241m3\u001b[39m) \u001b[38;5;241m+\u001b[39m\u001b[38;5;124m'\u001b[39m\u001b[38;5;124m.bmp\u001b[39m\u001b[38;5;124m'\u001b[39m)\n\u001b[0;32m---> 15\u001b[0m mask \u001b[38;5;241m=\u001b[39m \u001b[43mpropagate_mask\u001b[49m\u001b[43m(\u001b[49m\u001b[43mflow\u001b[49m\u001b[43m,\u001b[49m\u001b[43m \u001b[49m\u001b[43mimg_current\u001b[49m\u001b[38;5;241;43m=\u001b[39;49m\u001b[43m \u001b[49m\u001b[43mimg\u001b[49m\u001b[43m,\u001b[49m\u001b[43m \u001b[49m\u001b[43mmask_begin\u001b[49m\u001b[43m \u001b[49m\u001b[38;5;241;43m=\u001b[39;49m\u001b[43m \u001b[49m\u001b[43mmask\u001b[49m\u001b[43m)\u001b[49m\n",
      "Cell \u001b[0;32mIn[8], line 5\u001b[0m, in \u001b[0;36mpropagate_mask\u001b[0;34m(flow, img_current, mask_begin)\u001b[0m\n\u001b[1;32m      3\u001b[0m \u001b[38;5;28;01mfor\u001b[39;00m x \u001b[38;5;129;01min\u001b[39;00m \u001b[38;5;28mrange\u001b[39m(img_current\u001b[38;5;241m.\u001b[39mshape[\u001b[38;5;241m0\u001b[39m]):\n\u001b[1;32m      4\u001b[0m     \u001b[38;5;28;01mfor\u001b[39;00m y \u001b[38;5;129;01min\u001b[39;00m \u001b[38;5;28mrange\u001b[39m(img_current\u001b[38;5;241m.\u001b[39mshape[\u001b[38;5;241m1\u001b[39m]):\n\u001b[0;32m----> 5\u001b[0m         x_, y_ \u001b[38;5;241m=\u001b[39m \u001b[43mnp\u001b[49m\u001b[38;5;241;43m.\u001b[39;49m\u001b[43mrint\u001b[49m\u001b[43m(\u001b[49m\u001b[43mx\u001b[49m\u001b[38;5;241;43m+\u001b[39;49m\u001b[43mflow\u001b[49m\u001b[43m[\u001b[49m\u001b[43mx\u001b[49m\u001b[43m,\u001b[49m\u001b[43my\u001b[49m\u001b[43m,\u001b[49m\u001b[38;5;241;43m1\u001b[39;49m\u001b[43m]\u001b[49m\u001b[43m)\u001b[49m\u001b[38;5;241m.\u001b[39mastype(\u001b[38;5;28mint\u001b[39m), np\u001b[38;5;241m.\u001b[39mrint(y\u001b[38;5;241m+\u001b[39mflow[x,y,\u001b[38;5;241m0\u001b[39m])\u001b[38;5;241m.\u001b[39mastype(\u001b[38;5;28mint\u001b[39m)\n\u001b[1;32m      6\u001b[0m         \u001b[38;5;28;01mif\u001b[39;00m (x_\u001b[38;5;241m>\u001b[39m\u001b[38;5;241m=\u001b[39m\u001b[38;5;241m0\u001b[39m) \u001b[38;5;129;01mand\u001b[39;00m (x_\u001b[38;5;241m<\u001b[39mimg_current\u001b[38;5;241m.\u001b[39mshape[\u001b[38;5;241m0\u001b[39m]) \u001b[38;5;129;01mand\u001b[39;00m (y_\u001b[38;5;241m>\u001b[39m\u001b[38;5;241m=\u001b[39m\u001b[38;5;241m0\u001b[39m) \u001b[38;5;129;01mand\u001b[39;00m (y_\u001b[38;5;241m<\u001b[39mimg_current\u001b[38;5;241m.\u001b[39mshape[\u001b[38;5;241m1\u001b[39m]):\n\u001b[1;32m      7\u001b[0m             \u001b[38;5;28;01mif\u001b[39;00m mask_begin[x_,y_] \u001b[38;5;241m>\u001b[39m \u001b[38;5;241m0\u001b[39m:\n",
      "\u001b[0;31mKeyboardInterrupt\u001b[0m: "
     ]
    }
   ],
   "source": [
    "# generate all the propaagated masks\n",
    "\n",
    "nb_start = 1\n",
    "nb_end   = 50\n",
    "\n",
    "\n",
    "mask = imread(\"./sequences-train/swan-001.png\")\n",
    "\n",
    "\n",
    "for i in range(nb_start, nb_end):\n",
    "    print(i)\n",
    "    flow = np.load( \"./my_results/swan-\" + str(i).zfill(3) + \"-\" + str(i+1).zfill(3) + '.npy')\n",
    "    img = imread('./sequences-train/swan-' + str(i).zfill(3) +'.bmp')\n",
    "    \n",
    "    mask = propagate_mask(flow, img_current= img, mask_begin = mask)\n",
    "\n",
    "    imwrite( \"./my_results/swan-mask_pro\"+ str(i).zfill(3) +'.png', mask)\n",
    "\n",
    "\n",
    "    \n",
    "\n",
    "    \n",
    "\n",
    "    \n",
    "    \n",
    "\n",
    "    \n",
    "\n"
   ]
  }
 ],
 "metadata": {
  "kernelspec": {
   "display_name": "venv",
   "language": "python",
   "name": "python3"
  },
  "language_info": {
   "codemirror_mode": {
    "name": "ipython",
    "version": 3
   },
   "file_extension": ".py",
   "mimetype": "text/x-python",
   "name": "python",
   "nbconvert_exporter": "python",
   "pygments_lexer": "ipython3",
   "version": "3.11.5"
  }
 },
 "nbformat": 4,
 "nbformat_minor": 2
}
